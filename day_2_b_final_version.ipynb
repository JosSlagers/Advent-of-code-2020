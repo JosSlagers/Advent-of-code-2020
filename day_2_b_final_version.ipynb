{
 "cells": [
  {
   "cell_type": "code",
   "execution_count": 140,
   "metadata": {},
   "outputs": [
    {
     "data": {
      "text/plain": [
       "'414 out of the 1000 passwords are in accordance with the password policy'"
      ]
     },
     "execution_count": 140,
     "metadata": {},
     "output_type": "execute_result"
    }
   ],
   "source": [
    "import numpy as np\n",
    "import csv \n",
    "  \n",
    "\n",
    "csv_file = np.genfromtxt('password.csv', delimiter=',', dtype=str)\n",
    "password_list = csv_file[:].tolist()\n",
    "\n",
    "def check_password(inputs):\n",
    "    password_count = 0\n",
    "    compatible_password_count = 0\n",
    "    compatible_passwords = []\n",
    "    incompatible_passwords = []\n",
    "    \n",
    "    for x in inputs:\n",
    "        password_count += 1\n",
    "        \n",
    "        split_1 = x.split(\"-\")\n",
    "        split_2 = split_1[1].split(\" \")\n",
    "        split_3 = split_2[1].split(\":\")\n",
    "        \n",
    "        lower = int(split_1[0])\n",
    "        higher = int(split_2[0])\n",
    "        letter = split_3[0]\n",
    "        passwords = split_2[2]\n",
    "        \n",
    "        letter_count = 0\n",
    "        \n",
    "        for char in passwords:\n",
    "            if char == letter:\n",
    "                letter_count += 1\n",
    "        if letter_count in range(lower, higher + 1):\n",
    "            compatible_password_count += 1\n",
    "            \n",
    "            compatible_passwords.append(str(password_count)+ ': ' + passwords)\n",
    "        else:\n",
    "            incompatible_passwords.append(str(password_count)+ ': ' + passwords)\n",
    "           \n",
    "        \n",
    "        data = []\n",
    "        for password in compatible_passwords:\n",
    "            data.append([password])\n",
    "        \n",
    "        file = open('compatible_passwords.csv', 'w+') \n",
    "  \n",
    "\n",
    "        with file:     \n",
    "            write = csv.writer(file) \n",
    "            write.writerows(data)\n",
    "            \n",
    "        data = []\n",
    "        for password in incompatible_passwords:\n",
    "            data.append([password])\n",
    "        \n",
    "        file = open('incompatible_passwords.csv', 'w+') \n",
    "  \n",
    "\n",
    "        with file:     \n",
    "            write = csv.writer(file) \n",
    "            write.writerows(data) \n",
    "        \n",
    "        lenght = len(inputs)\n",
    "            \n",
    "            \n",
    "    return f'{compatible_password_count} out of the {lenght} passwords are in accordance with the password policy'\n",
    "          \n",
    "check_password(password_list)"
   ]
  },
  {
   "cell_type": "code",
   "execution_count": null,
   "metadata": {},
   "outputs": [],
   "source": []
  },
  {
   "cell_type": "code",
   "execution_count": 104,
   "metadata": {},
   "outputs": [
    {
     "ename": "TypeError",
     "evalue": "'int' object is not iterable",
     "output_type": "error",
     "traceback": [
      "\u001b[0;31m---------------------------------------------------------------------------\u001b[0m",
      "\u001b[0;31mTypeError\u001b[0m                                 Traceback (most recent call last)",
      "\u001b[0;32m<ipython-input-104-cd23141f7ac4>\u001b[0m in \u001b[0;36m<module>\u001b[0;34m\u001b[0m\n\u001b[1;32m     40\u001b[0m     \u001b[0;32mreturn\u001b[0m \u001b[0mpassword_count\u001b[0m\u001b[0;34m\u001b[0m\u001b[0;34m\u001b[0m\u001b[0m\n\u001b[1;32m     41\u001b[0m \u001b[0;34m\u001b[0m\u001b[0m\n\u001b[0;32m---> 42\u001b[0;31m \u001b[0mcheck_password\u001b[0m\u001b[0;34m(\u001b[0m\u001b[0mpassword_list\u001b[0m\u001b[0;34m)\u001b[0m\u001b[0;34m\u001b[0m\u001b[0;34m\u001b[0m\u001b[0m\n\u001b[0m",
      "\u001b[0;32m<ipython-input-104-cd23141f7ac4>\u001b[0m in \u001b[0;36mcheck_password\u001b[0;34m(inputs)\u001b[0m\n\u001b[1;32m     11\u001b[0m \u001b[0;34m\u001b[0m\u001b[0m\n\u001b[1;32m     12\u001b[0m     \u001b[0;32mfor\u001b[0m \u001b[0mx\u001b[0m \u001b[0;32min\u001b[0m \u001b[0minputs\u001b[0m\u001b[0;34m:\u001b[0m\u001b[0;34m\u001b[0m\u001b[0;34m\u001b[0m\u001b[0m\n\u001b[0;32m---> 13\u001b[0;31m         \u001b[0mpassword_count\u001b[0m \u001b[0;34m+=\u001b[0m \u001b[0;36m1\u001b[0m\u001b[0;34m\u001b[0m\u001b[0;34m\u001b[0m\u001b[0m\n\u001b[0m\u001b[1;32m     14\u001b[0m \u001b[0;34m\u001b[0m\u001b[0m\n\u001b[1;32m     15\u001b[0m         \u001b[0msplit_1\u001b[0m \u001b[0;34m=\u001b[0m \u001b[0mx\u001b[0m\u001b[0;34m.\u001b[0m\u001b[0msplit\u001b[0m\u001b[0;34m(\u001b[0m\u001b[0;34m\"-\"\u001b[0m\u001b[0;34m)\u001b[0m\u001b[0;34m\u001b[0m\u001b[0;34m\u001b[0m\u001b[0m\n",
      "\u001b[0;31mTypeError\u001b[0m: 'int' object is not iterable"
     ]
    }
   ],
   "source": []
  },
  {
   "cell_type": "code",
   "execution_count": null,
   "metadata": {},
   "outputs": [],
   "source": []
  },
  {
   "cell_type": "code",
   "execution_count": null,
   "metadata": {},
   "outputs": [],
   "source": []
  },
  {
   "cell_type": "code",
   "execution_count": null,
   "metadata": {},
   "outputs": [],
   "source": []
  },
  {
   "cell_type": "code",
   "execution_count": null,
   "metadata": {},
   "outputs": [],
   "source": []
  },
  {
   "cell_type": "code",
   "execution_count": 77,
   "metadata": {},
   "outputs": [
    {
     "data": {
      "text/plain": [
       "'414 out of the 1000 passwords are in accordance with the password policy'"
      ]
     },
     "execution_count": 77,
     "metadata": {},
     "output_type": "execute_result"
    }
   ],
   "source": []
  },
  {
   "cell_type": "code",
   "execution_count": 79,
   "metadata": {},
   "outputs": [
    {
     "data": {
      "text/plain": [
       "5"
      ]
     },
     "execution_count": 79,
     "metadata": {},
     "output_type": "execute_result"
    }
   ],
   "source": []
  },
  {
   "cell_type": "code",
   "execution_count": null,
   "metadata": {},
   "outputs": [],
   "source": []
  }
 ],
 "metadata": {
  "kernelspec": {
   "display_name": "Python 3",
   "language": "python",
   "name": "python3"
  },
  "language_info": {
   "codemirror_mode": {
    "name": "ipython",
    "version": 3
   },
   "file_extension": ".py",
   "mimetype": "text/x-python",
   "name": "python",
   "nbconvert_exporter": "python",
   "pygments_lexer": "ipython3",
   "version": "3.8.3"
  }
 },
 "nbformat": 4,
 "nbformat_minor": 4
}
