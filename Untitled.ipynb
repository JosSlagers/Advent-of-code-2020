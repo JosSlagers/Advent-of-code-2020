{
 "cells": [
  {
   "cell_type": "code",
   "execution_count": 71,
   "metadata": {},
   "outputs": [
    {
     "data": {
      "text/plain": [
       "731731"
      ]
     },
     "execution_count": 71,
     "metadata": {},
     "output_type": "execute_result"
    }
   ],
   "source": [
    "import numpy as np\n",
    "\n",
    "csv_file = np.genfromtxt('expenses.csv', \n",
    "                    delimiter=',', dtype=int)\n",
    "expenses = csv_file[:].tolist()\n",
    "\n",
    "\n",
    "def finding_entries():\n",
    "\n",
    "    t = 2020\n",
    "    duplicates = 0\n",
    "    for i in expenses:\n",
    "        if t/2 == i:\n",
    "            duplicates += 1\n",
    "            if duplicates >1:\n",
    "                return i*i\n",
    "        \n",
    "                \n",
    "    for i in expenses:\n",
    "        if t-i in expenses and i != t/2:\n",
    "            return (t-i)*i\n",
    "\n",
    "\n",
    "finding_entries()"
   ]
  },
  {
   "cell_type": "code",
   "execution_count": 72,
   "metadata": {},
   "outputs": [
    {
     "data": {
      "text/plain": [
       "[222, 365, 473, 572, 600]"
      ]
     },
     "execution_count": 72,
     "metadata": {},
     "output_type": "execute_result"
    }
   ],
   "source": [
    "# find 3 numbers in a list that add up to exactly a certain total/t here t= 2020.\n",
    "# What do we know:\n",
    "# not all numbers can be higher than t/3, so at least one number should be lower than t/3"
   ]
  },
  {
   "cell_type": "code",
   "execution_count": 73,
   "metadata": {},
   "outputs": [
    {
     "data": {
      "text/plain": [
       "1433"
      ]
     },
     "execution_count": 73,
     "metadata": {},
     "output_type": "execute_result"
    }
   ],
   "source": [
    "# the lowest 2 values are 222 and 365, that means that any number higher than t-low_list[0]-low_list[1]\n",
    "# can't be in the list\n"
   ]
  },
  {
   "cell_type": "code",
   "execution_count": 98,
   "metadata": {},
   "outputs": [
    {
     "data": {
      "text/plain": [
       "116115990"
      ]
     },
     "execution_count": 98,
     "metadata": {},
     "output_type": "execute_result"
    }
   ],
   "source": [
    "def finding_entries():\n",
    "    csv_file = np.genfromtxt('expenses.csv', \n",
    "                    delimiter=',', dtype=int)\n",
    "    expenses = csv_file[:].tolist()\n",
    "# at least one value should be lower than t/3, so let's capture that in a list.\n",
    "    t = 2020\n",
    "    low_list = []\n",
    "    for i in expenses:\n",
    "        if i < t / 3:\n",
    "            low_list.append(i)\n",
    "    low_list.sort() \n",
    "    low_list # [222, 365, 473, 572, 600] 5 values\n",
    "\n",
    "# because low_list is sorted, we also know that no value higher than: t - low_list[0] - low_list[1] can be used\n",
    "# so let's create the final list that get's rid of those values that are too high as well.\n",
    "    final_list = []\n",
    "    for i in expenses:\n",
    "        if i <= t - low_list[0] - low_list[1]:\n",
    "            final_list.append(i)\n",
    "    final_list.sort() # sort the list again\n",
    "    \n",
    "# now that we have elimanted all values that are out of the possible range we can deduct every possible\n",
    "# combination of 2 values from the list from t. if this outcome is in the final_list we have our third value\n",
    "# and we can return the product of these values to get our answer.\n",
    "\n",
    "    for i in final_list[0:5]:\n",
    "        for e in final_list:\n",
    "            x = t - (e + i)\n",
    "            if x in final_list:\n",
    "                return(x * e * i)\n",
    "                                \n",
    "finding_entries()"
   ]
  },
  {
   "cell_type": "code",
   "execution_count": 78,
   "metadata": {},
   "outputs": [
    {
     "name": "stdout",
     "output_type": "stream",
     "text": [
      "116115990\n",
      "116115990\n"
     ]
    }
   ],
   "source": []
  },
  {
   "cell_type": "code",
   "execution_count": 86,
   "metadata": {},
   "outputs": [],
   "source": [
    "low_list = [222, 365, 473, 572, 600]\n",
    "short_list = [222, 365, 473, 572, 600, 1425,1426,1428,1430,1433]"
   ]
  },
  {
   "cell_type": "code",
   "execution_count": 87,
   "metadata": {
    "scrolled": true
   },
   "outputs": [
    {
     "ename": "IndexError",
     "evalue": "list index out of range",
     "output_type": "error",
     "traceback": [
      "\u001b[0;31m---------------------------------------------------------------------------\u001b[0m",
      "\u001b[0;31mIndexError\u001b[0m                                Traceback (most recent call last)",
      "\u001b[0;32m<ipython-input-87-254a8f47d837>\u001b[0m in \u001b[0;36m<module>\u001b[0;34m\u001b[0m\n\u001b[1;32m      2\u001b[0m \u001b[0;32mfor\u001b[0m \u001b[0mi\u001b[0m \u001b[0;32min\u001b[0m \u001b[0mlow_list\u001b[0m\u001b[0;34m:\u001b[0m\u001b[0;34m\u001b[0m\u001b[0;34m\u001b[0m\u001b[0m\n\u001b[1;32m      3\u001b[0m     \u001b[0;32mfor\u001b[0m \u001b[0me\u001b[0m \u001b[0;32min\u001b[0m \u001b[0mshort_list\u001b[0m\u001b[0;34m:\u001b[0m\u001b[0;34m\u001b[0m\u001b[0;34m\u001b[0m\u001b[0m\n\u001b[0;32m----> 4\u001b[0;31m         \u001b[0mprint\u001b[0m\u001b[0;34m(\u001b[0m\u001b[0mshort_list\u001b[0m\u001b[0;34m[\u001b[0m\u001b[0me\u001b[0m\u001b[0;34m]\u001b[0m\u001b[0;34m)\u001b[0m\u001b[0;34m\u001b[0m\u001b[0;34m\u001b[0m\u001b[0m\n\u001b[0m",
      "\u001b[0;31mIndexError\u001b[0m: list index out of range"
     ]
    }
   ],
   "source": [
    "count = 0\n",
    "for i in low_list:\n",
    "    for e in short_list:\n",
    "        print(short_list[e])"
   ]
  },
  {
   "cell_type": "code",
   "execution_count": 92,
   "metadata": {},
   "outputs": [
    {
     "name": "stdout",
     "output_type": "stream",
     "text": [
      "222 222\n",
      "365 222\n",
      "473 222\n",
      "572 222\n",
      "600 222\n",
      "1425 222\n",
      "1426 222\n",
      "1428 222\n",
      "1430 222\n",
      "1433 222\n",
      "222 365\n",
      "365 365\n",
      "473 365\n",
      "572 365\n",
      "600 365\n",
      "1425 365\n",
      "1426 365\n",
      "1428 365\n",
      "1430 365\n",
      "1433 365\n",
      "222 473\n",
      "365 473\n",
      "473 473\n",
      "572 473\n",
      "600 473\n",
      "1425 473\n",
      "1426 473\n",
      "1428 473\n",
      "1430 473\n",
      "1433 473\n",
      "222 572\n",
      "365 572\n",
      "473 572\n",
      "572 572\n",
      "600 572\n",
      "1425 572\n",
      "1426 572\n",
      "1428 572\n",
      "1430 572\n",
      "1433 572\n",
      "222 600\n",
      "365 600\n",
      "473 600\n",
      "572 600\n",
      "600 600\n",
      "1425 600\n",
      "1426 600\n",
      "1428 600\n",
      "1430 600\n",
      "1433 600\n"
     ]
    }
   ],
   "source": [
    "t= 2020\n",
    "for i in short_list[0:5]:\n",
    "    for e in short_list:\n",
    "        print(e,i)"
   ]
  },
  {
   "cell_type": "code",
   "execution_count": 112,
   "metadata": {},
   "outputs": [
    {
     "data": {
      "text/plain": [
       "\"The values are 1433, 365 and 222 and the answer is it's product 116115990\""
      ]
     },
     "execution_count": 112,
     "metadata": {},
     "output_type": "execute_result"
    }
   ],
   "source": [
    "def finding_entries(expenses, t):\n",
    "# at least one value should be lower than t/3, so let's capture that in a list.\n",
    "    low_list = []\n",
    "    for i in expenses:\n",
    "        if i < t / 3:\n",
    "            low_list.append(i)\n",
    "    low_list.sort() \n",
    "    low_list # [222, 365, 473, 572, 600] 5 values for t == 2020\n",
    "    lenght = len(low_list)\n",
    "\n",
    "# because low_list is sorted, we also know that no value higher than: t - low_list[0] - low_list[1] can be used\n",
    "# so let's create the final list that get's rid of those values that are too high as well.\n",
    "    final_list = []\n",
    "    for i in expenses:\n",
    "        if i <= t - low_list[0] - low_list[1]:\n",
    "            final_list.append(i)\n",
    "    final_list.sort() # sort the list again\n",
    "    \n",
    "# now that we have elimanted all values that are out of the possible range we can deduct every possible\n",
    "# combination of 2 values from the list from t. if this outcome is in the final_list we have our third value\n",
    "# and we can return the product of these values to get our answer.\n",
    "\n",
    "    for i in final_list[0:lenght]:\n",
    "        for e in final_list:\n",
    "            x = t - (e + i)\n",
    "            if x in final_list:\n",
    "                return(f\"The values are {x}, {e} and {i} and the answer is it's product {x*i*e}\")\n",
    "\n",
    "            \n",
    "csv_file = np.genfromtxt('expenses.csv', \n",
    "                delimiter=',', dtype=int)\n",
    "expenses = csv_file[:].tolist()\n",
    "\n",
    "total = 2020\n",
    "\n",
    "finding_entries(expenses, total)"
   ]
  },
  {
   "cell_type": "code",
   "execution_count": 113,
   "metadata": {},
   "outputs": [
    {
     "data": {
      "text/plain": [
       "\"The values are 855, 643 and 522 and the answer is it's product 286977330\""
      ]
     },
     "execution_count": 113,
     "metadata": {},
     "output_type": "execute_result"
    }
   ],
   "source": [
    "expenses_shady = [1981, 1415, 1767, 1725, 1656, 1860, 1272, 1582, 1668, 1202, 1360, 1399, 1517, 1063, 1773, 1194, 1104, 1652, 1316, 1883, 1117, 522, 1212, 1081, 1579, 1571, 1393, 243, 1334, 1934, 1912, 1784, 1648, 1881, 1362, 1974, 1592, 1639, 1578, 1650, 1771, 1384, 1374, 1569, 1785, 1964, 1910, 1787, 1865, 1373, 1678, 1708, 1147, 1426, 1323, 855, 1257, 1497, 1326, 1764, 1793, 1993, 1926, 1387, 1441, 1332, 1018, 1949, 1807, 1431, 1933, 2009, 1840, 1628, 475, 1601, 1903, 1294, 1942, 1080, 1817, 1848, 1097, 1600, 1833, 1665, 1919, 1408, 1963, 1140, 1558, 1847, 1491, 1367, 1826, 1454, 1714, 2003, 1378, 1301, 1520, 1269, 1820, 1252, 1760, 1135, 1893, 1904, 1956, 1344, 1743, 1358, 1489, 1174, 1675, 1765, 1093, 1543, 1940, 1634, 1778, 1732, 1423, 1308, 1855, 962, 1873, 1692, 1485, 1766, 1287, 1388, 1671, 1002, 1524, 1891, 1627, 1155, 1185, 1122, 1603, 1989, 1343, 1745, 1868, 1166, 1253, 1136, 1803, 1733, 1310, 1762, 1319, 1930, 1637, 1726, 1446, 266, 1121, 1851, 1819, 1284, 1959, 1449, 1965, 1687, 1079, 1808, 1839, 1626, 1359, 1935, 1247, 1932, 1951, 1318, 1597, 1268, 643, 1938, 1741, 1721, 1640, 1238, 1976, 1237, 1960, 1805, 1757, 1990, 1276, 1157, 1469, 1794, 1914, 1982, 1115, 1907, 1846, 1674]\n",
    "\n",
    "finding_entries(expenses_shady, total)"
   ]
  },
  {
   "cell_type": "code",
   "execution_count": null,
   "metadata": {},
   "outputs": [],
   "source": []
  }
 ],
 "metadata": {
  "kernelspec": {
   "display_name": "Python 3",
   "language": "python",
   "name": "python3"
  },
  "language_info": {
   "codemirror_mode": {
    "name": "ipython",
    "version": 3
   },
   "file_extension": ".py",
   "mimetype": "text/x-python",
   "name": "python",
   "nbconvert_exporter": "python",
   "pygments_lexer": "ipython3",
   "version": "3.8.3"
  }
 },
 "nbformat": 4,
 "nbformat_minor": 4
}
